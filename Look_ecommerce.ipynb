{
  "nbformat": 4,
  "nbformat_minor": 0,
  "metadata": {
    "colab": {
      "provenance": [],
      "authorship_tag": "ABX9TyMWCwKBivcSVLLHDQnzUR9q",
      "include_colab_link": true
    },
    "kernelspec": {
      "name": "python3",
      "display_name": "Python 3"
    },
    "language_info": {
      "name": "python"
    }
  },
  "cells": [
    {
      "cell_type": "markdown",
      "metadata": {
        "id": "view-in-github",
        "colab_type": "text"
      },
      "source": [
        "<a href=\"https://colab.research.google.com/github/richardan01/fairprice_stock_analysis/blob/main/Look_ecommerce.ipynb\" target=\"_parent\"><img src=\"https://colab.research.google.com/assets/colab-badge.svg\" alt=\"Open In Colab\"/></a>"
      ]
    },
    {
      "cell_type": "code",
      "source": [
        "# @title Authenticate this session and choose project\n",
        "from google.colab import auth\n",
        "from google.cloud import bigquery\n",
        "import pandas as pd\n",
        "import ipywidgets as widgets\n",
        "%reload_ext google.colab.data_table\n",
        "auth.authenticate_user()\n",
        "print(\"Authenticated.\")\n",
        "\n",
        "project_list = !gcloud projects list\n",
        "project_ids = [row.split()[0] for row in project_list[1:]]\n",
        "dummy_option = \"(Change here if needed)\"\n",
        "options = project_ids.copy()\n",
        "options.insert(0, dummy_option)\n",
        "\n",
        "if 'fairprice-bigquery' in project_ids:\n",
        "  project_id = \"fairprice-bigquery\"\n",
        "  client = bigquery.Client(project=project_id)\n",
        "else:\n",
        "  project_id = project_ids[0]\n",
        "  client = bigquery.Client(project=project_id)\n",
        "\n",
        "print(f\"Default project: `{project_id}` as of \" + str(pd.Timestamp.now('Singapore')))\n",
        "\n",
        "dropdown = widgets.Dropdown(\n",
        "    options=options,\n",
        "    value=dummy_option,\n",
        "    description='Change? ',\n",
        ")\n",
        "\n",
        "def on_change(change):\n",
        "  global project_id\n",
        "  if change['name'] == 'value' and change['new'] in project_ids:\n",
        "    project_id = change['new']\n",
        "    client = bigquery.Client(project=project_id)\n",
        "    print(f\"Current project: `{project_id}` as of \" + str(pd.Timestamp.now('Singapore')))\n",
        "\n",
        "dropdown.observe(on_change)\n",
        "display(dropdown)"
      ],
      "metadata": {
        "colab": {
          "base_uri": "https://localhost:8080/",
          "height": 1000
        },
        "cellView": "form",
        "id": "MlLRB8Uyx41Z",
        "outputId": "deabb5c5-109c-4c86-c214-c8aed5a00031"
      },
      "execution_count": 1,
      "outputs": [
        {
          "output_type": "stream",
          "name": "stderr",
          "text": [
            "ERROR:root:Internal Python error in the inspect module.\n",
            "Below is the traceback from this internal error.\n",
            "\n"
          ]
        },
        {
          "output_type": "stream",
          "name": "stdout",
          "text": [
            "Traceback (most recent call last):\n",
            "  File \"/usr/local/lib/python3.11/dist-packages/IPython/core/interactiveshell.py\", line 3553, in run_code\n",
            "    exec(code_obj, self.user_global_ns, self.user_ns)\n",
            "  File \"/tmp/ipython-input-1-584614823.py\", line 3, in <cell line: 0>\n",
            "    from google.cloud import bigquery\n",
            "  File \"/usr/local/lib/python3.11/dist-packages/google/cloud/bigquery/__init__.py\", line 36, in <module>\n",
            "    from google.cloud.bigquery.client import Client\n",
            "  File \"/usr/local/lib/python3.11/dist-packages/google/cloud/bigquery/client.py\", line 72, in <module>\n",
            "    from google.cloud.bigquery import _job_helpers\n",
            "  File \"/usr/local/lib/python3.11/dist-packages/google/cloud/bigquery/_job_helpers.py\", line 48, in <module>\n",
            "    from google.cloud.bigquery import job\n",
            "  File \"/usr/local/lib/python3.11/dist-packages/google/cloud/bigquery/job/__init__.py\", line 27, in <module>\n",
            "    from google.cloud.bigquery.job.copy_ import CopyJob\n",
            "  File \"/usr/local/lib/python3.11/dist-packages/google/cloud/bigquery/job/copy_.py\", line 22, in <module>\n",
            "    from google.cloud.bigquery.table import TableReference\n",
            "  File \"/usr/local/lib/python3.11/dist-packages/google/cloud/bigquery/table.py\", line 44, in <module>\n",
            "    import geopandas  # type: ignore\n",
            "    ^^^^^^^^^^^^^^^^\n",
            "  File \"/usr/local/lib/python3.11/dist-packages/geopandas/__init__.py\", line 3, in <module>\n",
            "    from geopandas.geoseries import GeoSeries\n",
            "  File \"/usr/local/lib/python3.11/dist-packages/geopandas/geoseries.py\", line 18, in <module>\n",
            "    from geopandas.base import GeoPandasBase, _delegate_property\n",
            "  File \"/usr/local/lib/python3.11/dist-packages/geopandas/base.py\", line 12, in <module>\n",
            "    from . import _compat as compat\n",
            "  File \"/usr/local/lib/python3.11/dist-packages/geopandas/_compat.py\", line 73, in <module>\n",
            "    import pyproj  # noqa: F401\n",
            "    ^^^^^^^^^^^^^\n",
            "  File \"/usr/local/lib/python3.11/dist-packages/pyproj/__init__.py\", line 48, in <module>\n",
            "    from pyproj.database import (  # noqa: F401 pylint: disable=unused-import\n",
            "  File \"<frozen importlib._bootstrap>\", line 405, in parent\n",
            "KeyboardInterrupt\n",
            "\n",
            "During handling of the above exception, another exception occurred:\n",
            "\n",
            "Traceback (most recent call last):\n",
            "  File \"/usr/local/lib/python3.11/dist-packages/IPython/core/interactiveshell.py\", line 2099, in showtraceback\n",
            "    stb = value._render_traceback_()\n",
            "          ^^^^^^^^^^^^^^^^^^^^^^^^\n",
            "AttributeError: 'KeyboardInterrupt' object has no attribute '_render_traceback_'\n",
            "\n",
            "During handling of the above exception, another exception occurred:\n",
            "\n",
            "Traceback (most recent call last):\n",
            "  File \"/usr/local/lib/python3.11/dist-packages/IPython/core/ultratb.py\", line 1101, in get_records\n",
            "    return _fixed_getinnerframes(etb, number_of_lines_of_context, tb_offset)\n",
            "           ^^^^^^^^^^^^^^^^^^^^^^^^^^^^^^^^^^^^^^^^^^^^^^^^^^^^^^^^^^^^^^^^^\n",
            "  File \"/usr/local/lib/python3.11/dist-packages/IPython/core/ultratb.py\", line 248, in wrapped\n",
            "    return f(*args, **kwargs)\n",
            "           ^^^^^^^^^^^^^^^^^^\n",
            "  File \"/usr/local/lib/python3.11/dist-packages/IPython/core/ultratb.py\", line 281, in _fixed_getinnerframes\n",
            "    records = fix_frame_records_filenames(inspect.getinnerframes(etb, context))\n",
            "                                          ^^^^^^^^^^^^^^^^^^^^^^^^^^^^^^^^^^^^\n",
            "  File \"/usr/lib/python3.11/inspect.py\", line 1739, in getinnerframes\n",
            "    traceback_info = getframeinfo(tb, context)\n",
            "                     ^^^^^^^^^^^^^^^^^^^^^^^^^\n",
            "  File \"/usr/lib/python3.11/inspect.py\", line 1684, in getframeinfo\n",
            "    filename = getsourcefile(frame) or getfile(frame)\n",
            "               ^^^^^^^^^^^^^^^^^^^^\n",
            "  File \"/usr/lib/python3.11/inspect.py\", line 948, in getsourcefile\n",
            "    module = getmodule(object, filename)\n",
            "             ^^^^^^^^^^^^^^^^^^^^^^^^^^^\n",
            "  File \"/usr/lib/python3.11/inspect.py\", line 994, in getmodule\n",
            "    f = getabsfile(module)\n",
            "        ^^^^^^^^^^^^^^^^^^\n",
            "  File \"/usr/lib/python3.11/inspect.py\", line 963, in getabsfile\n",
            "    _filename = getsourcefile(object) or getfile(object)\n",
            "                ^^^^^^^^^^^^^^^^^^^^^\n",
            "  File \"/usr/lib/python3.11/inspect.py\", line 945, in getsourcefile\n",
            "    if os.path.exists(filename):\n",
            "       ^^^^^^^^^^^^^^^^^^^^^^^^\n",
            "  File \"<frozen genericpath>\", line 19, in exists\n",
            "KeyboardInterrupt\n"
          ]
        },
        {
          "output_type": "error",
          "ename": "TypeError",
          "evalue": "object of type 'NoneType' has no len()",
          "traceback": [
            "\u001b[0;31m---------------------------------------------------------------------------\u001b[0m",
            "\u001b[0;31mKeyboardInterrupt\u001b[0m                         Traceback (most recent call last)",
            "    \u001b[0;31m[... skipping hidden 1 frame]\u001b[0m\n",
            "\u001b[0;32m/tmp/ipython-input-1-584614823.py\u001b[0m in \u001b[0;36m<cell line: 0>\u001b[0;34m()\u001b[0m\n\u001b[1;32m      2\u001b[0m \u001b[0;32mfrom\u001b[0m \u001b[0mgoogle\u001b[0m\u001b[0;34m.\u001b[0m\u001b[0mcolab\u001b[0m \u001b[0;32mimport\u001b[0m \u001b[0mauth\u001b[0m\u001b[0;34m\u001b[0m\u001b[0;34m\u001b[0m\u001b[0m\n\u001b[0;32m----> 3\u001b[0;31m \u001b[0;32mfrom\u001b[0m \u001b[0mgoogle\u001b[0m\u001b[0;34m.\u001b[0m\u001b[0mcloud\u001b[0m \u001b[0;32mimport\u001b[0m \u001b[0mbigquery\u001b[0m\u001b[0;34m\u001b[0m\u001b[0;34m\u001b[0m\u001b[0m\n\u001b[0m\u001b[1;32m      4\u001b[0m \u001b[0;32mimport\u001b[0m \u001b[0mpandas\u001b[0m \u001b[0;32mas\u001b[0m \u001b[0mpd\u001b[0m\u001b[0;34m\u001b[0m\u001b[0;34m\u001b[0m\u001b[0m\n",
            "\u001b[0;32m/usr/local/lib/python3.11/dist-packages/google/cloud/bigquery/__init__.py\u001b[0m in \u001b[0;36m<module>\u001b[0;34m\u001b[0m\n\u001b[1;32m     35\u001b[0m \u001b[0;34m\u001b[0m\u001b[0m\n\u001b[0;32m---> 36\u001b[0;31m \u001b[0;32mfrom\u001b[0m \u001b[0mgoogle\u001b[0m\u001b[0;34m.\u001b[0m\u001b[0mcloud\u001b[0m\u001b[0;34m.\u001b[0m\u001b[0mbigquery\u001b[0m\u001b[0;34m.\u001b[0m\u001b[0mclient\u001b[0m \u001b[0;32mimport\u001b[0m \u001b[0mClient\u001b[0m\u001b[0;34m\u001b[0m\u001b[0;34m\u001b[0m\u001b[0m\n\u001b[0m\u001b[1;32m     37\u001b[0m \u001b[0;32mfrom\u001b[0m \u001b[0mgoogle\u001b[0m\u001b[0;34m.\u001b[0m\u001b[0mcloud\u001b[0m\u001b[0;34m.\u001b[0m\u001b[0mbigquery\u001b[0m\u001b[0;34m.\u001b[0m\u001b[0mdataset\u001b[0m \u001b[0;32mimport\u001b[0m \u001b[0mAccessEntry\u001b[0m\u001b[0;34m\u001b[0m\u001b[0;34m\u001b[0m\u001b[0m\n",
            "\u001b[0;32m/usr/local/lib/python3.11/dist-packages/google/cloud/bigquery/client.py\u001b[0m in \u001b[0;36m<module>\u001b[0;34m\u001b[0m\n\u001b[1;32m     71\u001b[0m \u001b[0;32mfrom\u001b[0m \u001b[0mgoogle\u001b[0m\u001b[0;34m.\u001b[0m\u001b[0mcloud\u001b[0m\u001b[0;34m.\u001b[0m\u001b[0mbigquery\u001b[0m\u001b[0;34m.\u001b[0m\u001b[0m_http\u001b[0m \u001b[0;32mimport\u001b[0m \u001b[0mConnection\u001b[0m\u001b[0;34m\u001b[0m\u001b[0;34m\u001b[0m\u001b[0m\n\u001b[0;32m---> 72\u001b[0;31m \u001b[0;32mfrom\u001b[0m \u001b[0mgoogle\u001b[0m\u001b[0;34m.\u001b[0m\u001b[0mcloud\u001b[0m\u001b[0;34m.\u001b[0m\u001b[0mbigquery\u001b[0m \u001b[0;32mimport\u001b[0m \u001b[0m_job_helpers\u001b[0m\u001b[0;34m\u001b[0m\u001b[0;34m\u001b[0m\u001b[0m\n\u001b[0m\u001b[1;32m     73\u001b[0m \u001b[0;32mfrom\u001b[0m \u001b[0mgoogle\u001b[0m\u001b[0;34m.\u001b[0m\u001b[0mcloud\u001b[0m\u001b[0;34m.\u001b[0m\u001b[0mbigquery\u001b[0m \u001b[0;32mimport\u001b[0m \u001b[0m_pandas_helpers\u001b[0m\u001b[0;34m\u001b[0m\u001b[0;34m\u001b[0m\u001b[0m\n",
            "\u001b[0;32m/usr/local/lib/python3.11/dist-packages/google/cloud/bigquery/_job_helpers.py\u001b[0m in \u001b[0;36m<module>\u001b[0;34m\u001b[0m\n\u001b[1;32m     47\u001b[0m \u001b[0;34m\u001b[0m\u001b[0m\n\u001b[0;32m---> 48\u001b[0;31m \u001b[0;32mfrom\u001b[0m \u001b[0mgoogle\u001b[0m\u001b[0;34m.\u001b[0m\u001b[0mcloud\u001b[0m\u001b[0;34m.\u001b[0m\u001b[0mbigquery\u001b[0m \u001b[0;32mimport\u001b[0m \u001b[0mjob\u001b[0m\u001b[0;34m\u001b[0m\u001b[0;34m\u001b[0m\u001b[0m\n\u001b[0m\u001b[1;32m     49\u001b[0m \u001b[0;32mimport\u001b[0m \u001b[0mgoogle\u001b[0m\u001b[0;34m.\u001b[0m\u001b[0mcloud\u001b[0m\u001b[0;34m.\u001b[0m\u001b[0mbigquery\u001b[0m\u001b[0;34m.\u001b[0m\u001b[0mquery\u001b[0m\u001b[0;34m\u001b[0m\u001b[0;34m\u001b[0m\u001b[0m\n",
            "\u001b[0;32m/usr/local/lib/python3.11/dist-packages/google/cloud/bigquery/job/__init__.py\u001b[0m in \u001b[0;36m<module>\u001b[0;34m\u001b[0m\n\u001b[1;32m     26\u001b[0m \u001b[0;32mfrom\u001b[0m \u001b[0mgoogle\u001b[0m\u001b[0;34m.\u001b[0m\u001b[0mcloud\u001b[0m\u001b[0;34m.\u001b[0m\u001b[0mbigquery\u001b[0m\u001b[0;34m.\u001b[0m\u001b[0mjob\u001b[0m\u001b[0;34m.\u001b[0m\u001b[0mbase\u001b[0m \u001b[0;32mimport\u001b[0m \u001b[0mUnknownJob\u001b[0m\u001b[0;34m\u001b[0m\u001b[0;34m\u001b[0m\u001b[0m\n\u001b[0;32m---> 27\u001b[0;31m \u001b[0;32mfrom\u001b[0m \u001b[0mgoogle\u001b[0m\u001b[0;34m.\u001b[0m\u001b[0mcloud\u001b[0m\u001b[0;34m.\u001b[0m\u001b[0mbigquery\u001b[0m\u001b[0;34m.\u001b[0m\u001b[0mjob\u001b[0m\u001b[0;34m.\u001b[0m\u001b[0mcopy_\u001b[0m \u001b[0;32mimport\u001b[0m \u001b[0mCopyJob\u001b[0m\u001b[0;34m\u001b[0m\u001b[0;34m\u001b[0m\u001b[0m\n\u001b[0m\u001b[1;32m     28\u001b[0m \u001b[0;32mfrom\u001b[0m \u001b[0mgoogle\u001b[0m\u001b[0;34m.\u001b[0m\u001b[0mcloud\u001b[0m\u001b[0;34m.\u001b[0m\u001b[0mbigquery\u001b[0m\u001b[0;34m.\u001b[0m\u001b[0mjob\u001b[0m\u001b[0;34m.\u001b[0m\u001b[0mcopy_\u001b[0m \u001b[0;32mimport\u001b[0m \u001b[0mCopyJobConfig\u001b[0m\u001b[0;34m\u001b[0m\u001b[0;34m\u001b[0m\u001b[0m\n",
            "\u001b[0;32m/usr/local/lib/python3.11/dist-packages/google/cloud/bigquery/job/copy_.py\u001b[0m in \u001b[0;36m<module>\u001b[0;34m\u001b[0m\n\u001b[1;32m     21\u001b[0m \u001b[0;32mfrom\u001b[0m \u001b[0mgoogle\u001b[0m\u001b[0;34m.\u001b[0m\u001b[0mcloud\u001b[0m\u001b[0;34m.\u001b[0m\u001b[0mbigquery\u001b[0m \u001b[0;32mimport\u001b[0m \u001b[0m_helpers\u001b[0m\u001b[0;34m\u001b[0m\u001b[0;34m\u001b[0m\u001b[0m\n\u001b[0;32m---> 22\u001b[0;31m \u001b[0;32mfrom\u001b[0m \u001b[0mgoogle\u001b[0m\u001b[0;34m.\u001b[0m\u001b[0mcloud\u001b[0m\u001b[0;34m.\u001b[0m\u001b[0mbigquery\u001b[0m\u001b[0;34m.\u001b[0m\u001b[0mtable\u001b[0m \u001b[0;32mimport\u001b[0m \u001b[0mTableReference\u001b[0m\u001b[0;34m\u001b[0m\u001b[0;34m\u001b[0m\u001b[0m\n\u001b[0m\u001b[1;32m     23\u001b[0m \u001b[0;34m\u001b[0m\u001b[0m\n",
            "\u001b[0;32m/usr/local/lib/python3.11/dist-packages/google/cloud/bigquery/table.py\u001b[0m in \u001b[0;36m<module>\u001b[0;34m\u001b[0m\n\u001b[1;32m     43\u001b[0m \u001b[0;32mtry\u001b[0m\u001b[0;34m:\u001b[0m\u001b[0;34m\u001b[0m\u001b[0;34m\u001b[0m\u001b[0m\n\u001b[0;32m---> 44\u001b[0;31m     \u001b[0;32mimport\u001b[0m \u001b[0mgeopandas\u001b[0m  \u001b[0;31m# type: ignore\u001b[0m\u001b[0;34m\u001b[0m\u001b[0;34m\u001b[0m\u001b[0m\n\u001b[0m\u001b[1;32m     45\u001b[0m \u001b[0;32mexcept\u001b[0m \u001b[0mImportError\u001b[0m\u001b[0;34m:\u001b[0m\u001b[0;34m\u001b[0m\u001b[0;34m\u001b[0m\u001b[0m\n",
            "\u001b[0;32m/usr/local/lib/python3.11/dist-packages/geopandas/__init__.py\u001b[0m in \u001b[0;36m<module>\u001b[0;34m\u001b[0m\n\u001b[1;32m      2\u001b[0m \u001b[0;34m\u001b[0m\u001b[0m\n\u001b[0;32m----> 3\u001b[0;31m \u001b[0;32mfrom\u001b[0m \u001b[0mgeopandas\u001b[0m\u001b[0;34m.\u001b[0m\u001b[0mgeoseries\u001b[0m \u001b[0;32mimport\u001b[0m \u001b[0mGeoSeries\u001b[0m\u001b[0;34m\u001b[0m\u001b[0;34m\u001b[0m\u001b[0m\n\u001b[0m\u001b[1;32m      4\u001b[0m \u001b[0;32mfrom\u001b[0m \u001b[0mgeopandas\u001b[0m\u001b[0;34m.\u001b[0m\u001b[0mgeodataframe\u001b[0m \u001b[0;32mimport\u001b[0m \u001b[0mGeoDataFrame\u001b[0m\u001b[0;34m\u001b[0m\u001b[0;34m\u001b[0m\u001b[0m\n",
            "\u001b[0;32m/usr/local/lib/python3.11/dist-packages/geopandas/geoseries.py\u001b[0m in \u001b[0;36m<module>\u001b[0;34m\u001b[0m\n\u001b[1;32m     17\u001b[0m \u001b[0;32mimport\u001b[0m \u001b[0mgeopandas\u001b[0m\u001b[0;34m\u001b[0m\u001b[0;34m\u001b[0m\u001b[0m\n\u001b[0;32m---> 18\u001b[0;31m \u001b[0;32mfrom\u001b[0m \u001b[0mgeopandas\u001b[0m\u001b[0;34m.\u001b[0m\u001b[0mbase\u001b[0m \u001b[0;32mimport\u001b[0m \u001b[0mGeoPandasBase\u001b[0m\u001b[0;34m,\u001b[0m \u001b[0m_delegate_property\u001b[0m\u001b[0;34m\u001b[0m\u001b[0;34m\u001b[0m\u001b[0m\n\u001b[0m\u001b[1;32m     19\u001b[0m \u001b[0;32mfrom\u001b[0m \u001b[0mgeopandas\u001b[0m\u001b[0;34m.\u001b[0m\u001b[0mexplore\u001b[0m \u001b[0;32mimport\u001b[0m \u001b[0m_explore_geoseries\u001b[0m\u001b[0;34m\u001b[0m\u001b[0;34m\u001b[0m\u001b[0m\n",
            "\u001b[0;32m/usr/local/lib/python3.11/dist-packages/geopandas/base.py\u001b[0m in \u001b[0;36m<module>\u001b[0;34m\u001b[0m\n\u001b[1;32m     11\u001b[0m \u001b[0;34m\u001b[0m\u001b[0m\n\u001b[0;32m---> 12\u001b[0;31m \u001b[0;32mfrom\u001b[0m \u001b[0;34m.\u001b[0m \u001b[0;32mimport\u001b[0m \u001b[0m_compat\u001b[0m \u001b[0;32mas\u001b[0m \u001b[0mcompat\u001b[0m\u001b[0;34m\u001b[0m\u001b[0;34m\u001b[0m\u001b[0m\n\u001b[0m\u001b[1;32m     13\u001b[0m \u001b[0;32mfrom\u001b[0m \u001b[0;34m.\u001b[0m\u001b[0marray\u001b[0m \u001b[0;32mimport\u001b[0m \u001b[0mGeometryArray\u001b[0m\u001b[0;34m,\u001b[0m \u001b[0mGeometryDtype\u001b[0m\u001b[0;34m,\u001b[0m \u001b[0mpoints_from_xy\u001b[0m\u001b[0;34m\u001b[0m\u001b[0;34m\u001b[0m\u001b[0m\n",
            "\u001b[0;32m/usr/local/lib/python3.11/dist-packages/geopandas/_compat.py\u001b[0m in \u001b[0;36m<module>\u001b[0;34m\u001b[0m\n\u001b[1;32m     72\u001b[0m \u001b[0;32mtry\u001b[0m\u001b[0;34m:\u001b[0m\u001b[0;34m\u001b[0m\u001b[0;34m\u001b[0m\u001b[0m\n\u001b[0;32m---> 73\u001b[0;31m     \u001b[0;32mimport\u001b[0m \u001b[0mpyproj\u001b[0m  \u001b[0;31m# noqa: F401\u001b[0m\u001b[0;34m\u001b[0m\u001b[0;34m\u001b[0m\u001b[0m\n\u001b[0m\u001b[1;32m     74\u001b[0m \u001b[0;34m\u001b[0m\u001b[0m\n",
            "\u001b[0;32m/usr/local/lib/python3.11/dist-packages/pyproj/__init__.py\u001b[0m in \u001b[0;36m<module>\u001b[0;34m\u001b[0m\n\u001b[1;32m     47\u001b[0m \u001b[0;32mfrom\u001b[0m \u001b[0mpyproj\u001b[0m\u001b[0;34m.\u001b[0m\u001b[0mcrs\u001b[0m \u001b[0;32mimport\u001b[0m \u001b[0mCRS\u001b[0m  \u001b[0;31m# noqa: F401 pylint: disable=unused-import\u001b[0m\u001b[0;34m\u001b[0m\u001b[0;34m\u001b[0m\u001b[0m\n\u001b[0;32m---> 48\u001b[0;31m from pyproj.database import (  # noqa: F401 pylint: disable=unused-import\n\u001b[0m\u001b[1;32m     49\u001b[0m     \u001b[0mget_authorities\u001b[0m\u001b[0;34m,\u001b[0m\u001b[0;34m\u001b[0m\u001b[0;34m\u001b[0m\u001b[0m\n",
            "\u001b[0;32m/usr/lib/python3.11/importlib/_bootstrap.py\u001b[0m in \u001b[0;36mparent\u001b[0;34m(self)\u001b[0m\n",
            "\u001b[0;31mKeyboardInterrupt\u001b[0m: ",
            "\nDuring handling of the above exception, another exception occurred:\n",
            "\u001b[0;31mAttributeError\u001b[0m                            Traceback (most recent call last)",
            "\u001b[0;32m/usr/local/lib/python3.11/dist-packages/IPython/core/interactiveshell.py\u001b[0m in \u001b[0;36mshowtraceback\u001b[0;34m(self, exc_tuple, filename, tb_offset, exception_only, running_compiled_code)\u001b[0m\n\u001b[1;32m   2098\u001b[0m                         \u001b[0;31m# in the engines. This should return a list of strings.\u001b[0m\u001b[0;34m\u001b[0m\u001b[0;34m\u001b[0m\u001b[0m\n\u001b[0;32m-> 2099\u001b[0;31m                         \u001b[0mstb\u001b[0m \u001b[0;34m=\u001b[0m \u001b[0mvalue\u001b[0m\u001b[0;34m.\u001b[0m\u001b[0m_render_traceback_\u001b[0m\u001b[0;34m(\u001b[0m\u001b[0;34m)\u001b[0m\u001b[0;34m\u001b[0m\u001b[0;34m\u001b[0m\u001b[0m\n\u001b[0m\u001b[1;32m   2100\u001b[0m                     \u001b[0;32mexcept\u001b[0m \u001b[0mException\u001b[0m\u001b[0;34m:\u001b[0m\u001b[0;34m\u001b[0m\u001b[0;34m\u001b[0m\u001b[0m\n",
            "\u001b[0;31mAttributeError\u001b[0m: 'KeyboardInterrupt' object has no attribute '_render_traceback_'",
            "\nDuring handling of the above exception, another exception occurred:\n",
            "\u001b[0;31mTypeError\u001b[0m                                 Traceback (most recent call last)",
            "    \u001b[0;31m[... skipping hidden 1 frame]\u001b[0m\n",
            "\u001b[0;32m/usr/local/lib/python3.11/dist-packages/IPython/core/interactiveshell.py\u001b[0m in \u001b[0;36mshowtraceback\u001b[0;34m(self, exc_tuple, filename, tb_offset, exception_only, running_compiled_code)\u001b[0m\n\u001b[1;32m   2099\u001b[0m                         \u001b[0mstb\u001b[0m \u001b[0;34m=\u001b[0m \u001b[0mvalue\u001b[0m\u001b[0;34m.\u001b[0m\u001b[0m_render_traceback_\u001b[0m\u001b[0;34m(\u001b[0m\u001b[0;34m)\u001b[0m\u001b[0;34m\u001b[0m\u001b[0;34m\u001b[0m\u001b[0m\n\u001b[1;32m   2100\u001b[0m                     \u001b[0;32mexcept\u001b[0m \u001b[0mException\u001b[0m\u001b[0;34m:\u001b[0m\u001b[0;34m\u001b[0m\u001b[0;34m\u001b[0m\u001b[0m\n\u001b[0;32m-> 2101\u001b[0;31m                         stb = self.InteractiveTB.structured_traceback(etype,\n\u001b[0m\u001b[1;32m   2102\u001b[0m                                             value, tb, tb_offset=tb_offset)\n\u001b[1;32m   2103\u001b[0m \u001b[0;34m\u001b[0m\u001b[0m\n",
            "\u001b[0;32m/usr/local/lib/python3.11/dist-packages/IPython/core/ultratb.py\u001b[0m in \u001b[0;36mstructured_traceback\u001b[0;34m(self, etype, value, tb, tb_offset, number_of_lines_of_context)\u001b[0m\n\u001b[1;32m   1365\u001b[0m         \u001b[0;32melse\u001b[0m\u001b[0;34m:\u001b[0m\u001b[0;34m\u001b[0m\u001b[0;34m\u001b[0m\u001b[0m\n\u001b[1;32m   1366\u001b[0m             \u001b[0mself\u001b[0m\u001b[0;34m.\u001b[0m\u001b[0mtb\u001b[0m \u001b[0;34m=\u001b[0m \u001b[0mtb\u001b[0m\u001b[0;34m\u001b[0m\u001b[0;34m\u001b[0m\u001b[0m\n\u001b[0;32m-> 1367\u001b[0;31m         return FormattedTB.structured_traceback(\n\u001b[0m\u001b[1;32m   1368\u001b[0m             self, etype, value, tb, tb_offset, number_of_lines_of_context)\n\u001b[1;32m   1369\u001b[0m \u001b[0;34m\u001b[0m\u001b[0m\n",
            "\u001b[0;32m/usr/local/lib/python3.11/dist-packages/IPython/core/ultratb.py\u001b[0m in \u001b[0;36mstructured_traceback\u001b[0;34m(self, etype, value, tb, tb_offset, number_of_lines_of_context)\u001b[0m\n\u001b[1;32m   1265\u001b[0m         \u001b[0;32mif\u001b[0m \u001b[0mmode\u001b[0m \u001b[0;32min\u001b[0m \u001b[0mself\u001b[0m\u001b[0;34m.\u001b[0m\u001b[0mverbose_modes\u001b[0m\u001b[0;34m:\u001b[0m\u001b[0;34m\u001b[0m\u001b[0;34m\u001b[0m\u001b[0m\n\u001b[1;32m   1266\u001b[0m             \u001b[0;31m# Verbose modes need a full traceback\u001b[0m\u001b[0;34m\u001b[0m\u001b[0;34m\u001b[0m\u001b[0m\n\u001b[0;32m-> 1267\u001b[0;31m             return VerboseTB.structured_traceback(\n\u001b[0m\u001b[1;32m   1268\u001b[0m                 \u001b[0mself\u001b[0m\u001b[0;34m,\u001b[0m \u001b[0metype\u001b[0m\u001b[0;34m,\u001b[0m \u001b[0mvalue\u001b[0m\u001b[0;34m,\u001b[0m \u001b[0mtb\u001b[0m\u001b[0;34m,\u001b[0m \u001b[0mtb_offset\u001b[0m\u001b[0;34m,\u001b[0m \u001b[0mnumber_of_lines_of_context\u001b[0m\u001b[0;34m\u001b[0m\u001b[0;34m\u001b[0m\u001b[0m\n\u001b[1;32m   1269\u001b[0m             )\n",
            "\u001b[0;32m/usr/local/lib/python3.11/dist-packages/IPython/core/ultratb.py\u001b[0m in \u001b[0;36mstructured_traceback\u001b[0;34m(self, etype, evalue, etb, tb_offset, number_of_lines_of_context)\u001b[0m\n\u001b[1;32m   1122\u001b[0m         \u001b[0;34m\"\"\"Return a nice text document describing the traceback.\"\"\"\u001b[0m\u001b[0;34m\u001b[0m\u001b[0;34m\u001b[0m\u001b[0m\n\u001b[1;32m   1123\u001b[0m \u001b[0;34m\u001b[0m\u001b[0m\n\u001b[0;32m-> 1124\u001b[0;31m         formatted_exception = self.format_exception_as_a_whole(etype, evalue, etb, number_of_lines_of_context,\n\u001b[0m\u001b[1;32m   1125\u001b[0m                                                                tb_offset)\n\u001b[1;32m   1126\u001b[0m \u001b[0;34m\u001b[0m\u001b[0m\n",
            "\u001b[0;32m/usr/local/lib/python3.11/dist-packages/IPython/core/ultratb.py\u001b[0m in \u001b[0;36mformat_exception_as_a_whole\u001b[0;34m(self, etype, evalue, etb, number_of_lines_of_context, tb_offset)\u001b[0m\n\u001b[1;32m   1080\u001b[0m \u001b[0;34m\u001b[0m\u001b[0m\n\u001b[1;32m   1081\u001b[0m \u001b[0;34m\u001b[0m\u001b[0m\n\u001b[0;32m-> 1082\u001b[0;31m         \u001b[0mlast_unique\u001b[0m\u001b[0;34m,\u001b[0m \u001b[0mrecursion_repeat\u001b[0m \u001b[0;34m=\u001b[0m \u001b[0mfind_recursion\u001b[0m\u001b[0;34m(\u001b[0m\u001b[0morig_etype\u001b[0m\u001b[0;34m,\u001b[0m \u001b[0mevalue\u001b[0m\u001b[0;34m,\u001b[0m \u001b[0mrecords\u001b[0m\u001b[0;34m)\u001b[0m\u001b[0;34m\u001b[0m\u001b[0;34m\u001b[0m\u001b[0m\n\u001b[0m\u001b[1;32m   1083\u001b[0m \u001b[0;34m\u001b[0m\u001b[0m\n\u001b[1;32m   1084\u001b[0m         \u001b[0mframes\u001b[0m \u001b[0;34m=\u001b[0m \u001b[0mself\u001b[0m\u001b[0;34m.\u001b[0m\u001b[0mformat_records\u001b[0m\u001b[0;34m(\u001b[0m\u001b[0mrecords\u001b[0m\u001b[0;34m,\u001b[0m \u001b[0mlast_unique\u001b[0m\u001b[0;34m,\u001b[0m \u001b[0mrecursion_repeat\u001b[0m\u001b[0;34m)\u001b[0m\u001b[0;34m\u001b[0m\u001b[0;34m\u001b[0m\u001b[0m\n",
            "\u001b[0;32m/usr/local/lib/python3.11/dist-packages/IPython/core/ultratb.py\u001b[0m in \u001b[0;36mfind_recursion\u001b[0;34m(etype, value, records)\u001b[0m\n\u001b[1;32m    380\u001b[0m     \u001b[0;31m# first frame (from in to out) that looks different.\u001b[0m\u001b[0;34m\u001b[0m\u001b[0;34m\u001b[0m\u001b[0m\n\u001b[1;32m    381\u001b[0m     \u001b[0;32mif\u001b[0m \u001b[0;32mnot\u001b[0m \u001b[0mis_recursion_error\u001b[0m\u001b[0;34m(\u001b[0m\u001b[0metype\u001b[0m\u001b[0;34m,\u001b[0m \u001b[0mvalue\u001b[0m\u001b[0;34m,\u001b[0m \u001b[0mrecords\u001b[0m\u001b[0;34m)\u001b[0m\u001b[0;34m:\u001b[0m\u001b[0;34m\u001b[0m\u001b[0;34m\u001b[0m\u001b[0m\n\u001b[0;32m--> 382\u001b[0;31m         \u001b[0;32mreturn\u001b[0m \u001b[0mlen\u001b[0m\u001b[0;34m(\u001b[0m\u001b[0mrecords\u001b[0m\u001b[0;34m)\u001b[0m\u001b[0;34m,\u001b[0m \u001b[0;36m0\u001b[0m\u001b[0;34m\u001b[0m\u001b[0;34m\u001b[0m\u001b[0m\n\u001b[0m\u001b[1;32m    383\u001b[0m \u001b[0;34m\u001b[0m\u001b[0m\n\u001b[1;32m    384\u001b[0m     \u001b[0;31m# Select filename, lineno, func_name to track frames with\u001b[0m\u001b[0;34m\u001b[0m\u001b[0;34m\u001b[0m\u001b[0m\n",
            "\u001b[0;31mTypeError\u001b[0m: object of type 'NoneType' has no len()"
          ]
        }
      ]
    },
    {
      "cell_type": "markdown",
      "source": [
        "# 1.0 Sales Analysis"
      ],
      "metadata": {
        "id": "wYnRlXsvzxJv"
      }
    },
    {
      "cell_type": "markdown",
      "source": [
        "## **1.1 Sales Revenue by Category**\n",
        "\n",
        "The table below shows total sales revenue of each product category available in Look Ecommerce"
      ],
      "metadata": {
        "id": "VBKiQwozENWq"
      }
    },
    {
      "cell_type": "code",
      "execution_count": null,
      "metadata": {
        "id": "IvcWt4OUtraL"
      },
      "outputs": [],
      "source": [
        "\n",
        "%%bigquery --project $project_id\n",
        "SELECT\n",
        "  products.category,\n",
        "  SUM(order_items.sale_price) AS total_sales,\n",
        "  COUNT(DISTINCT order_items.user_id) AS total_customers\n",
        "FROM\n",
        "  `bigquery-public-data`.`thelook_ecommerce`.`order_items` AS order_items\n",
        "INNER JOIN\n",
        "  `bigquery-public-data`.`thelook_ecommerce`.`products` AS products\n",
        "ON\n",
        "  order_items.product_id = products.id\n",
        "GROUP BY\n",
        "  1\n",
        "ORDER BY\n",
        "  total_sales DESC;"
      ]
    },
    {
      "cell_type": "markdown",
      "source": [
        "- The most profitable product category is Outwear & Coats, followed by Jeans and Sweaters.\n",
        "- The least profitable product categories are clothing sets, Jumpsuits & Rompers."
      ],
      "metadata": {
        "id": "Cw8c7F10IOX9"
      }
    },
    {
      "cell_type": "markdown",
      "source": [
        "## **1.2 Sales Revenue percentage**\n",
        "\n",
        "The table below shows revenue percentage in the ECommerce Store"
      ],
      "metadata": {
        "id": "k4nLqYD7Eizi"
      }
    },
    {
      "cell_type": "code",
      "source": [
        "%%bigquery --project $project_id\n",
        "-- total revenue by category and percentage\n",
        "SELECT\n",
        "  category,\n",
        "  SUM(sale_price) AS total_revenue,\n",
        "  ROUND((SUM(sale_price) / (\n",
        "      SELECT\n",
        "        SUM(sale_price)\n",
        "      FROM\n",
        "        `bigquery-public-data`.`thelook_ecommerce`.`order_items`)) * 100, 2) AS revenue_percentage\n",
        "FROM\n",
        "  `bigquery-public-data`.`thelook_ecommerce`.`order_items` AS order_items\n",
        "LEFT JOIN\n",
        "  `bigquery-public-data`.`thelook_ecommerce`.`products` AS products\n",
        "ON\n",
        "  order_items.product_id = products.id\n",
        "GROUP BY\n",
        "  category;"
      ],
      "metadata": {
        "id": "4R6MVdYsA2S1"
      },
      "execution_count": null,
      "outputs": []
    },
    {
      "cell_type": "markdown",
      "source": [
        "The top revenue driver is the **\"Outwear and Coats\"** category, which accounts for 12% of total sales. This indicates a strong product-market fit within the outerwear and coats segment.\n"
      ],
      "metadata": {
        "id": "dwt_Rtxn3YSk"
      }
    },
    {
      "cell_type": "markdown",
      "source": [
        "## 1.3 Brand by revenue\n",
        "\n",
        "The table below shows the revenue of brands sell in Look Ecommerce"
      ],
      "metadata": {
        "id": "kxrvMSS0AiMt"
      }
    },
    {
      "cell_type": "code",
      "source": [
        "%%bigquery --project $project_id\n",
        "SELECT\n",
        "  p.brand AS brand,\n",
        "  ROUND(SUM(oi.sale_price * o.num_of_item), 2) AS revenue,\n",
        "  SUM(o.num_of_item) AS quantity\n",
        "FROM\n",
        "  `bigquery-public-data`.`thelook_ecommerce`.`order_items` AS oi\n",
        "INNER JOIN\n",
        "  `bigquery-public-data`.`thelook_ecommerce`.`orders` AS o\n",
        "ON\n",
        "  oi.order_id = o.order_id\n",
        "INNER JOIN\n",
        "  `bigquery-public-data`.`thelook_ecommerce`.`products` AS p\n",
        "ON\n",
        "  oi.product_id = p.id\n",
        "WHERE\n",
        "  oi.status NOT IN ('Cancelled',\n",
        "    'Returned')\n",
        "GROUP BY\n",
        "  1\n",
        "ORDER BY\n",
        "  revenue DESC;"
      ],
      "metadata": {
        "id": "3zcdGcTGAWSe"
      },
      "execution_count": null,
      "outputs": []
    },
    {
      "cell_type": "markdown",
      "source": [
        "**Analysis**\n",
        "1. Calvin Klein brought in the most revenue.\n",
        "2. Allegra K had the most sold quantity, double the amount sold by Calvin Klein.\n",
        "3. Marshal Brand brought in the least revenue."
      ],
      "metadata": {
        "id": "cD9CS-T-HiAu"
      }
    },
    {
      "cell_type": "markdown",
      "source": [
        "## 1.4 Sales Growth Over year\n",
        "The table below shows the times series for sales growth over time\n"
      ],
      "metadata": {
        "id": "XaZfASWr2YM8"
      }
    },
    {
      "source": [
        "# @title\n",
        "%%bigquery --project $project_id\n",
        "SELECT\n",
        "  order_year,\n",
        "  total_sales,\n",
        "  ROUND((total_sales - LAG(total_sales, 1, 0) OVER (ORDER BY order_year)) * 100.0 / LAG(total_sales, 1, 1) OVER (ORDER BY order_year), 2) AS yoy_growth_percentage\n",
        "FROM (\n",
        "  SELECT\n",
        "    EXTRACT(YEAR\n",
        "    FROM\n",
        "      DATE(delivered_at)) AS order_year,\n",
        "    SUM(sale_price) AS total_sales\n",
        "  FROM\n",
        "    `bigquery-public-data`.`thelook_ecommerce`.`order_items`\n",
        "  WHERE\n",
        "    delivered_at IS NOT NULL\n",
        "    AND returned_at IS NULL\n",
        "    AND status = 'Complete'\n",
        "  GROUP BY\n",
        "    1 );"
      ],
      "cell_type": "code",
      "metadata": {
        "id": "kSWDKAn_0Ht6"
      },
      "execution_count": null,
      "outputs": []
    },
    {
      "cell_type": "markdown",
      "source": [
        "**Analysis**\n",
        "\n",
        "1. Big Y0Y% growth between 2019 to 2020\n",
        "2. There is a decline bettween 2021 to 2022 but revenue start to increase back from 2023 to 2024\n",
        "\n"
      ],
      "metadata": {
        "id": "BAaToNm-HWyA"
      }
    },
    {
      "cell_type": "markdown",
      "source": [
        "# **2.0 Profitable Analysis**\n"
      ],
      "metadata": {
        "id": "AlPfl22HSYPb"
      }
    },
    {
      "cell_type": "markdown",
      "source": [
        "## 2.1 Overall Profitability over time"
      ],
      "metadata": {
        "id": "5TO4w_dZTFiw"
      }
    },
    {
      "cell_type": "code",
      "source": [
        "%%bigquery --project $project_id\n",
        "SELECT\n",
        "  EXTRACT(YEAR\n",
        "  FROM\n",
        "    created_at) AS year,\n",
        "  round(SUM(sale_price)) AS total_revenue,\n",
        "  round(SUM(cost)) AS total_cost,\n",
        "  round(SUM(sale_price - cost)) AS gross_profit\n",
        "FROM\n",
        "  `bigquery-public-data`.`thelook_ecommerce`.`order_items` AS order_items\n",
        "LEFT JOIN\n",
        "  `bigquery-public-data`.`thelook_ecommerce`.`products` AS products\n",
        "ON\n",
        "  order_items.product_id = products.id\n",
        "GROUP BY\n",
        "  1;"
      ],
      "metadata": {
        "id": "Nvw2UQa1SVgH"
      },
      "execution_count": null,
      "outputs": []
    },
    {
      "cell_type": "markdown",
      "source": [
        "Operating profit trippled in 2020 due to increased revenue and cost efficiency."
      ],
      "metadata": {
        "id": "0yckqzTeLP80"
      }
    },
    {
      "cell_type": "markdown",
      "source": [
        "## 2.2 **Profit margin by product category**\n"
      ],
      "metadata": {
        "id": "ad_ddiSdTtCF"
      }
    },
    {
      "cell_type": "code",
      "source": [
        "%%bigquery --project $project_id\n",
        "SELECT\n",
        "  products.category,\n",
        "  SUM(order_items.sale_price) AS total_revenue,\n",
        "  SUM(order_items.sale_price - products.cost) AS total_profit,\n",
        "  SUM(order_items.sale_price - products.cost) / SUM(order_items.sale_price) AS profit_margin,\n",
        "  SUM(order_items.id) AS quantity_sold\n",
        "FROM\n",
        "  `bigquery-public-data`.`thelook_ecommerce`.`products` AS products\n",
        "INNER JOIN\n",
        "  `bigquery-public-data`.`thelook_ecommerce`.`order_items` AS order_items\n",
        "ON\n",
        "  products.id = order_items.product_id\n",
        "GROUP BY\n",
        "  1;\n",
        "\n"
      ],
      "metadata": {
        "id": "6LLreQVkACBN"
      },
      "execution_count": null,
      "outputs": []
    },
    {
      "cell_type": "markdown",
      "source": [
        "This table shows the product profit margin"
      ],
      "metadata": {
        "id": "TPLd4wKLABqC"
      }
    },
    {
      "cell_type": "markdown",
      "source": [
        "## 2.3 Recommendation for Profitability\n",
        "**1. Increase Sales in High-Margin Products**\n",
        "\n",
        "\n",
        "- From the profitability_improvement_analysis, we can identify which products have the highest gross margin percentages.\n",
        "- Focusing marketing efforts and promotions on these products can drive higher overall profitability.\n",
        "\n",
        "\n",
        "**2. Boost E-commerce Growth**\n",
        "\n",
        "- Online channels are underperforming compared to in-store sales but typically offer higher profit margins due to lower operational costs (e.g., rent, staff).\n",
        "\n",
        "\n",
        "**3. Reduce Operational Costs**\n",
        "\n",
        "- Streamlining supply chain operations, improving inventory management, and negotiating better terms with suppliers can enhance gross margins."
      ],
      "metadata": {
        "id": "yv_ZymtQNCdp"
      }
    },
    {
      "cell_type": "markdown",
      "source": [
        "# 3.0 Customer Behavior Analysis"
      ],
      "metadata": {
        "id": "YwWvJo4G66He"
      }
    },
    {
      "cell_type": "markdown",
      "source": [
        "## 3.1 Customer Segmentation based on age **group**"
      ],
      "metadata": {
        "id": "hRqMtPwX8jZ8"
      }
    },
    {
      "cell_type": "code",
      "source": [
        "%%bigquery --project $project_id\n",
        "-- group it based on kids, teenagers, adults, elderly\n",
        "SELECT\n",
        "  CASE\n",
        "    WHEN users.age BETWEEN 0 AND 12 THEN 'Kids'\n",
        "    WHEN users.age BETWEEN 13\n",
        "  AND 19 THEN 'Teenagers'\n",
        "    WHEN users.age BETWEEN 20 AND 64 THEN 'Adults'\n",
        "    ELSE 'Elderly'\n",
        "END\n",
        "  AS age_group,\n",
        "  users.gender,\n",
        "  COUNT(DISTINCT users.id) AS customer_count,\n",
        "  SUM(orders.num_of_item) AS total_items_ordered,\n",
        "  SUM(order_items.sale_price) AS total_revenue\n",
        "FROM\n",
        "  `bigquery-public-data`.`thelook_ecommerce`.`users` AS users\n",
        "INNER JOIN\n",
        "  `bigquery-public-data`.`thelook_ecommerce`.`orders` AS orders\n",
        "ON\n",
        "  users.id = orders.user_id\n",
        "INNER JOIN\n",
        "  `bigquery-public-data`.`thelook_ecommerce`.`order_items` AS order_items\n",
        "ON\n",
        "  orders.order_id = order_items.order_id\n",
        "GROUP BY\n",
        "  1,\n",
        "  2;"
      ],
      "metadata": {
        "id": "9Az9ovio7ANf"
      },
      "execution_count": null,
      "outputs": []
    },
    {
      "cell_type": "markdown",
      "source": [
        "**Insight**\n",
        "1. Most revenue is done by mostly Adults and Teenagers and kids the least\n",
        "2. relatively low numbers in elderly and kids group"
      ],
      "metadata": {
        "id": "CknP9BFpNywU"
      }
    },
    {
      "cell_type": "markdown",
      "source": [
        "## 3.2 Customer Segmentation by Gender"
      ],
      "metadata": {
        "id": "qxleJ-EuOB3W"
      }
    },
    {
      "cell_type": "code",
      "source": [
        "%%bigquery --project $project_id\n",
        "-- customer segmentation by gender total revenue\n",
        "SELECT\n",
        "  users.gender,\n",
        "  SUM(order_items.sale_price) AS total_revenue\n",
        "FROM\n",
        "  `bigquery-public-data`.`thelook_ecommerce`.`users` AS users\n",
        "INNER JOIN\n",
        "  `bigquery-public-data`.`thelook_ecommerce`.`orders` AS orders\n",
        "ON\n",
        "  users.id = orders.user_id\n",
        "INNER JOIN\n",
        "  `bigquery-public-data`.`thelook_ecommerce`.`order_items` AS order_items\n",
        "ON\n",
        "  orders.order_id = order_items.order_id\n",
        "GROUP BY\n",
        "  1;"
      ],
      "metadata": {
        "id": "pmUdlbSF-FXX"
      },
      "execution_count": null,
      "outputs": []
    },
    {
      "cell_type": "markdown",
      "source": [
        "\n",
        "Male customers generated more revenue and bought more products in quantity than female customers."
      ],
      "metadata": {
        "id": "kvJDO5Lx8z3A"
      }
    },
    {
      "cell_type": "markdown",
      "source": [
        "## 3.3 Customer Behavior Analysis : Total Customers by Country"
      ],
      "metadata": {
        "id": "yEZPsfFPQzZb"
      }
    },
    {
      "cell_type": "code",
      "source": [
        "%%bigquery --project $project_id\n",
        "SELECT\n",
        "  users.country,\n",
        "  SUM(order_items.sale_price) AS total_revenue\n",
        "FROM\n",
        "  `bigquery-public-data`.`thelook_ecommerce`.`users` AS users\n",
        "INNER JOIN\n",
        "  `bigquery-public-data`.`thelook_ecommerce`.`order_items` AS order_items\n",
        "ON\n",
        "  users.id = order_items.user_id\n",
        "GROUP BY\n",
        "  1\n",
        "ORDER BY\n",
        "  total_revenue DESC;"
      ],
      "metadata": {
        "id": "pg3pWkIzQbAM"
      },
      "execution_count": null,
      "outputs": []
    },
    {
      "cell_type": "markdown",
      "source": [
        "## 3.4 Customer Behavior Analysis : Marketing Traffic Source"
      ],
      "metadata": {
        "id": "J0TpCOmiX-79"
      }
    },
    {
      "cell_type": "code",
      "source": [
        "%%bigquery --project $project_id\n",
        "SELECT\n",
        "  traffic_source,\n",
        "  COUNT(*) AS total_customers\n",
        "FROM\n",
        "  `bigquery-public-data`.`thelook_ecommerce`.`users`\n",
        "GROUP BY\n",
        "  traffic_source;"
      ],
      "metadata": {
        "id": "ci1rahZAX9p2"
      },
      "execution_count": null,
      "outputs": []
    },
    {
      "cell_type": "markdown",
      "source": [
        "## 3.4 Recommendation to grow customer base\n",
        "**1. Enhance Digital Marketing**\n",
        "Focus on underperforming online channels by creating targeted ad campaigns, improving SEO, and enhancing the user experience.\n",
        "\n",
        "**2. Implement Loyalty Programs:**\n",
        "Reward high-value customers to encourage repeat purchases and increase customer lifetime value (CLV).\n",
        "\n",
        "**3. Promotions During Off-Peak Periods: **\n",
        "Implement marketing campaigns to drive traffic and sales during typically slower months."
      ],
      "metadata": {
        "id": "O24SkkIZOin-"
      }
    },
    {
      "cell_type": "markdown",
      "source": [
        "# 4.0 Inventory Analysis"
      ],
      "metadata": {
        "id": "7wDtjsMr2wPv"
      }
    },
    {
      "cell_type": "markdown",
      "source": [
        "## 4.1 Inventory and overstock analysis"
      ],
      "metadata": {
        "id": "ruZNoGAt6O8j"
      }
    },
    {
      "cell_type": "code",
      "source": [
        "%%bigquery --project $project_id\n",
        "-- group it by prodcut category\n",
        "SELECT\n",
        "  t0.product_category,\n",
        "  COUNT(t0.id) AS total_inventory,\n",
        "  COUNT(CASE\n",
        "      WHEN t0.sold_at IS NULL THEN t0.id\n",
        "  END\n",
        "    ) AS unsold_inventory,\n",
        "  COUNT(CASE\n",
        "      WHEN t0.sold_at IS NOT NULL THEN t0.id\n",
        "  END\n",
        "    ) AS sold_inventory\n",
        "FROM\n",
        "  `bigquery-public-data`.`thelook_ecommerce`.`inventory_items` AS t0\n",
        "GROUP BY\n",
        "  1;"
      ],
      "metadata": {
        "id": "cy-UaQXP6KXT"
      },
      "execution_count": null,
      "outputs": []
    },
    {
      "cell_type": "markdown",
      "source": [
        "**Analysis**\n",
        "\n",
        "1. **Intimates** leads with around 36k total units. This indicates a major investment in this category but also a large proportion of unsold items.\n",
        "\n",
        "2. **Jeans, Tops & Tees, Hoodies & Sweatshirts** also have high total inventory counts (~32k–34k).\n",
        "\n",
        "3. **Outerwear & Coats and Accessories** appear to have relatively lower total inventory (in the mid-20k range), which could be strategic (due to higher cost per unit) or a result of stronger turnover."
      ],
      "metadata": {
        "id": "J-qPLzKD6gyy"
      }
    },
    {
      "cell_type": "markdown",
      "source": [
        "# 5.0 Recommendation to improve the business\n",
        "\n",
        "Based on the the  analysis across Sales, Profitability, Customer Behavior, and Inventory Management, here is some of the few recommendation to enchance business profitability:\n",
        "\n",
        "**1. Enhance E-commerce Performance**\n",
        "\n",
        "- Invest in SEO, digital marketing, user experience improvements, and a stronger mobile presence will attract more customers to the online channel.\n",
        "\n",
        "- Implement online promotions and improving checkout processes can increase conversion rates and overall profitability.\n",
        "\n",
        "**2. Optimize Inventory Management**\n",
        "\n",
        "- From the inventory analysis, several products are overstocked while others frequently run out of stock.\n",
        "- YOu can product bundle some product through promotion campaign or seasonal campaign to enchance profitabilty\n",
        "\n",
        "**3. Implement Customer Loyalty Programs **\n",
        "\n",
        "- Reward high-value customers identified from the segmentation analysis with  promotions, rewards, or  loyalty programs can increase customer retention and repeat purchases.\n",
        "\n"
      ],
      "metadata": {
        "id": "4lC0XVUPPemw"
      }
    },
    {
      "cell_type": "markdown",
      "source": [],
      "metadata": {
        "id": "lTWIWL5YPlYr"
      }
    }
  ]
}